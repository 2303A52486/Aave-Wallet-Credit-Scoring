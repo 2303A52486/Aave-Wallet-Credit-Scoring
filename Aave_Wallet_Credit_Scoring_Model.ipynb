{
  "nbformat": 4,
  "nbformat_minor": 0,
  "metadata": {
    "colab": {
      "provenance": [],
      "authorship_tag": "ABX9TyN395h+qHKkQ1aKLRyUGXy1",
      "include_colab_link": true
    },
    "kernelspec": {
      "name": "python3",
      "display_name": "Python 3"
    },
    "language_info": {
      "name": "python"
    }
  },
  "cells": [
    {
      "cell_type": "markdown",
      "metadata": {
        "id": "view-in-github",
        "colab_type": "text"
      },
      "source": [
        "<a href=\"https://colab.research.google.com/github/2303A52486/Aave-Wallet-Credit-Scoring/blob/main/Aave_Wallet_Credit_Scoring_Model.ipynb\" target=\"_parent\"><img src=\"https://colab.research.google.com/assets/colab-badge.svg\" alt=\"Open In Colab\"/></a>"
      ]
    },
    {
      "cell_type": "code",
      "execution_count": null,
      "metadata": {
        "colab": {
          "base_uri": "https://localhost:8080/"
        },
        "id": "-fFyf_k_6Vtn",
        "outputId": "9ce67f3f-3099-40e8-8c96-2eda26553d0c"
      },
      "outputs": [
        {
          "output_type": "stream",
          "name": "stderr",
          "text": [
            "Extracting features: 100%|██████████| 3497/3497 [00:04<00:00, 716.24it/s]\n"
          ]
        },
        {
          "output_type": "stream",
          "name": "stdout",
          "text": [
            "Saved wallet scores to wallet_credit_scores.csv and distribution plot.\n"
          ]
        }
      ],
      "source": [
        "import json\n",
        "import pandas as pd\n",
        "import numpy as np\n",
        "from sklearn.feature_extraction.text import TfidfVectorizer\n",
        "from sklearn.ensemble import GradientBoostingRegressor\n",
        "from sklearn.preprocessing import MinMaxScaler\n",
        "import matplotlib.pyplot as plt\n",
        "from tqdm import tqdm\n",
        "\n",
        "def load_data(json_file):\n",
        "    with open(json_file) as f:\n",
        "        data = json.load(f)\n",
        "    return pd.DataFrame(data)\n",
        "\n",
        "def extract_features(df):\n",
        "    results = []\n",
        "    grouped = df.groupby('userWallet')\n",
        "\n",
        "    for wallet, group in tqdm(grouped, desc=\"Extracting features\"):\n",
        "        seq = ' '.join(group.sort_values('timestamp')['action'])\n",
        "\n",
        "        deposit = sum([float(x['amount']) for x in group[group['action']=='deposit']['actionData']])\n",
        "        borrow = sum([float(x['amount']) for x in group[group['action']=='borrow']['actionData']])\n",
        "        repay = sum([float(x['amount']) for x in group[group['action']=='repay']['actionData']])\n",
        "        liquidation = group[group['action']=='liquidationcall'].shape[0]\n",
        "\n",
        "        leverage = borrow / deposit if deposit > 0 else 0\n",
        "        repay_ratio = repay / borrow if borrow > 0 else 1\n",
        "\n",
        "        results.append({\n",
        "            'wallet': wallet,\n",
        "            'action_seq': seq,\n",
        "            'deposit': deposit,\n",
        "            'borrow': borrow,\n",
        "            'repay': repay,\n",
        "            'liquidation': liquidation,\n",
        "            'leverage': leverage,\n",
        "            'repay_ratio': repay_ratio\n",
        "        })\n",
        "\n",
        "    return pd.DataFrame(results)\n",
        "\n",
        "def create_pseudo_score(df):\n",
        "    base = df['repay_ratio'] * 500\n",
        "    health = (df['deposit'] - df['borrow']) / (df['deposit'] + 1e-6) * 300\n",
        "    liquidation_penalty = df['liquidation'] * -200\n",
        "    pseudo_score = base + health + liquidation_penalty\n",
        "    return np.clip(pseudo_score, 0, 1000)\n",
        "\n",
        "def prepare_dataset(df):\n",
        "    scaler = MinMaxScaler()\n",
        "    financial_feats = df[['deposit', 'borrow', 'repay', 'leverage', 'repay_ratio']]\n",
        "    financial_scaled = scaler.fit_transform(financial_feats)\n",
        "\n",
        "    tfidf = TfidfVectorizer(ngram_range=(2,3), max_features=100)\n",
        "    action_feats = tfidf.fit_transform(df['action_seq']).toarray()\n",
        "\n",
        "    X = np.hstack((financial_scaled, action_feats))\n",
        "    return X\n",
        "\n",
        "def train_credit_model(X, y):\n",
        "    model = GradientBoostingRegressor(n_estimators=200, random_state=42)\n",
        "    model.fit(X, y)\n",
        "    return model\n",
        "\n",
        "def plot_score_distribution(scores, output_img='credit_score_distribution.png'):\n",
        "    plt.figure(figsize=(8,5))\n",
        "    plt.hist(scores, bins=10, color='orange', edgecolor='black')\n",
        "    plt.title('Wallet Credit Score Distribution')\n",
        "    plt.xlabel('Credit Score')\n",
        "    plt.ylabel('Wallet Count')\n",
        "    plt.savefig(output_img)\n",
        "    plt.close()\n",
        "\n",
        "def generate_wallet_scores(input_json, output_csv):\n",
        "    df = load_data(input_json)\n",
        "    feats = extract_features(df)\n",
        "    feats['pseudo_score'] = create_pseudo_score(feats)\n",
        "\n",
        "    X = prepare_dataset(feats)\n",
        "    y = feats['pseudo_score']\n",
        "\n",
        "    model = train_credit_model(X, y)\n",
        "    predictions = model.predict(X)\n",
        "\n",
        "    predictions = np.clip(predictions, 0, 1000)\n",
        "    predictions = np.round(predictions).astype(int)\n",
        "\n",
        "    pd.DataFrame({'wallet': feats['wallet'], 'score': predictions}).to_csv(output_csv, index=False)\n",
        "    plot_score_distribution(predictions)\n",
        "    print(f\"Saved wallet scores to {output_csv} and distribution plot.\")\n",
        "\n",
        "generate_wallet_scores('user-wallet-transactions.json', 'wallet_credit_scores.csv')"
      ]
    }
  ]
}